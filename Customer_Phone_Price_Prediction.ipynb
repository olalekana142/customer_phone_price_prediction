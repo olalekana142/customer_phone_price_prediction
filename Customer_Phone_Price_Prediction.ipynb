{
  "metadata": {
    "colab": {
      "provenance": []
    },
    "kernelspec": {
      "name": "python3",
      "display_name": "Python 3",
      "language": "python"
    },
    "language_info": {
      "name": "python",
      "version": "3.10.13",
      "mimetype": "text/x-python",
      "codemirror_mode": {
        "name": "ipython",
        "version": 3
      },
      "pygments_lexer": "ipython3",
      "nbconvert_exporter": "python",
      "file_extension": ".py"
    },
    "kaggle": {
      "accelerator": "none",
      "dataSources": [
        {
          "sourceId": 8733281,
          "sourceType": "datasetVersion",
          "datasetId": 5242261
        }
      ],
      "dockerImageVersionId": 30732,
      "isInternetEnabled": true,
      "language": "python",
      "sourceType": "notebook",
      "isGpuEnabled": false
    }
  },
  "nbformat_minor": 0,
  "nbformat": 4,
  "cells": [
    {
      "cell_type": "markdown",
      "source": [
        "Importing packages"
      ],
      "metadata": {
        "id": "0HNXbrxdcEU-"
      }
    },
    {
      "cell_type": "markdown",
      "source": [
        "**About Dataset**"
      ],
      "metadata": {
        "id": "-CvyFC1uqlEc"
      }
    },
    {
      "cell_type": "markdown",
      "source": [
        "\n",
        "**Description:**\n",
        "This dataset provides insights into consumer electronics sales, featuring product categories, brands, prices, customer demographics, purchase behavior, and satisfaction metrics. It aims to analyze factors influencing purchase intent and customer satisfaction in the consumer electronics market.\n",
        "\n",
        "**Features:**\n",
        "**ProductID:** Unique identifier for each product.\n",
        "**ProductCategory:** Category of the consumer electronics product (e.g., Smartphones, Laptops).\n",
        "**ProductBrand:** Brand of the product (e.g., Apple, Samsung).\n",
        "**ProductPrice:** Price of the product ($).\n",
        "**CustomerAge:** Age of the customer.\n",
        "**CustomerGender:** Gender of the customer (0 - Male, 1 - Female).\n",
        "**PurchaseFrequency:** Average number of purchases per year.\n",
        "**CustomerSatisfaction:** Customer satisfaction rating (1 - 5).\n",
        "**PurchaseIntent (Target Variable):** Intent to purchase."
      ],
      "metadata": {
        "id": "MXmLxNGbqlEd"
      }
    },
    {
      "cell_type": "code",
      "source": [
        "#bagging classifier\n",
        "#LDA\n",
        "#QDA\n",
        "#NuSVC\n"
      ],
      "metadata": {
        "id": "gST_m1TgPgpj"
      },
      "execution_count": null,
      "outputs": []
    },
    {
      "cell_type": "code",
      "source": [
        "import pandas as pd\n",
        "import numpy as np\n",
        "import matplotlib.pyplot as plt\n",
        "import seaborn as sns\n",
        "import warnings\n",
        "warnings.filterwarnings('ignore')\n"
      ],
      "metadata": {
        "id": "zeWJUAtGRWXm",
        "execution": {
          "iopub.status.busy": "2024-06-25T12:54:42.121154Z",
          "iopub.execute_input": "2024-06-25T12:54:42.121546Z",
          "iopub.status.idle": "2024-06-25T12:54:44.204522Z",
          "shell.execute_reply.started": "2024-06-25T12:54:42.121513Z",
          "shell.execute_reply": "2024-06-25T12:54:44.203373Z"
        },
        "trusted": true
      },
      "execution_count": null,
      "outputs": []
    },
    {
      "cell_type": "markdown",
      "source": [
        "Data loading, data frame and data understanding"
      ],
      "metadata": {
        "id": "Kl1YpcTfcLwb"
      }
    },
    {
      "cell_type": "code",
      "source": [
        "df = pd.read_csv('/kaggle/input/consumer-electronics-sales-dataset/consumer_electronics_sales_data.csv')"
      ],
      "metadata": {
        "id": "Tn24k2ZWRaik",
        "execution": {
          "iopub.status.busy": "2024-06-25T12:56:02.273329Z",
          "iopub.execute_input": "2024-06-25T12:56:02.27435Z",
          "iopub.status.idle": "2024-06-25T12:56:02.31115Z",
          "shell.execute_reply.started": "2024-06-25T12:56:02.274304Z",
          "shell.execute_reply": "2024-06-25T12:56:02.310028Z"
        },
        "trusted": true
      },
      "execution_count": null,
      "outputs": []
    },
    {
      "cell_type": "code",
      "source": [
        "df.head(10)"
      ],
      "metadata": {
        "id": "5Zq1cwpLRe6v"
      },
      "execution_count": null,
      "outputs": []
    },
    {
      "cell_type": "code",
      "source": [
        "df.shape"
      ],
      "metadata": {
        "id": "K90u5tTaRf-m"
      },
      "execution_count": null,
      "outputs": []
    },
    {
      "cell_type": "code",
      "source": [
        "df.info()"
      ],
      "metadata": {
        "id": "pe96f68bRuwN"
      },
      "execution_count": null,
      "outputs": []
    },
    {
      "cell_type": "code",
      "source": [
        "df.isnull().sum()"
      ],
      "metadata": {
        "id": "IL2jfVa3Rwjn"
      },
      "execution_count": null,
      "outputs": []
    },
    {
      "cell_type": "code",
      "source": [
        "df.duplicated().sum()"
      ],
      "metadata": {
        "id": "PuQW0GiRR6RI"
      },
      "execution_count": null,
      "outputs": []
    },
    {
      "cell_type": "markdown",
      "source": [
        "Feature Engineering"
      ],
      "metadata": {
        "id": "7zClxOtJcUU2"
      }
    },
    {
      "cell_type": "code",
      "source": [
        "from sklearn.preprocessing import LabelEncoder\n",
        "le = LabelEncoder()\n",
        "df['ProductCategory'] = le.fit_transform(df['ProductCategory'])\n",
        "df['ProductBrand'] = le.fit_transform(df['ProductBrand'])"
      ],
      "metadata": {
        "id": "I3JTMiIiSIM6"
      },
      "execution_count": null,
      "outputs": []
    },
    {
      "cell_type": "code",
      "source": [
        "df.drop('ProductID',axis=1,inplace=True)"
      ],
      "metadata": {
        "id": "R6qDQzKKSeP6"
      },
      "execution_count": null,
      "outputs": []
    },
    {
      "cell_type": "code",
      "source": [
        "sns.boxplot(df)\n",
        "plt.xticks(rotation=90)\n",
        "plt.show()"
      ],
      "metadata": {
        "id": "wYS0-BseStmv"
      },
      "execution_count": null,
      "outputs": []
    },
    {
      "cell_type": "code",
      "source": [
        "plt.figure(figsize=(12,10))\n",
        "sns.heatmap(df.corr()*10,annot=True,cmap='coolwarm',linecolor='yellow',linewidths=1)\n",
        "plt.show()"
      ],
      "metadata": {
        "id": "HuWNLIGFSz_y"
      },
      "execution_count": null,
      "outputs": []
    },
    {
      "cell_type": "markdown",
      "source": [
        "Train Test Split"
      ],
      "metadata": {
        "id": "XA4f_z6pcXfT"
      }
    },
    {
      "cell_type": "code",
      "source": [
        "X = df.drop('PurchaseIntent',axis=1)\n",
        "y = df['PurchaseIntent']"
      ],
      "metadata": {
        "id": "t5aosVZeTJ2d"
      },
      "execution_count": null,
      "outputs": []
    },
    {
      "cell_type": "code",
      "source": [
        "from sklearn.model_selection import train_test_split\n",
        "X_train, X_test, y_train, y_test = train_test_split(X, y, test_size=0.25, random_state=42)"
      ],
      "metadata": {
        "id": "SnfwNmobTRZg"
      },
      "execution_count": null,
      "outputs": []
    },
    {
      "cell_type": "markdown",
      "source": [
        "Bagging CLassifier"
      ],
      "metadata": {
        "id": "cOnuRo8YcaMC"
      }
    },
    {
      "cell_type": "code",
      "source": [
        "from sklearn.ensemble import BaggingClassifier\n",
        "from sklearn.tree import DecisionTreeClassifier\n",
        "\n",
        "base_clf = DecisionTreeClassifier()\n",
        "bag_clf = BaggingClassifier(base_estimator=base_clf, n_estimators=500, max_samples=0.25, bootstrap=False, random_state=42, n_jobs=-1)\n",
        "bag_clf.fit(X_train, y_train)\n",
        "\n",
        "y_pred = bag_clf.predict(X_test)"
      ],
      "metadata": {
        "id": "k4uey28ATU3y"
      },
      "execution_count": null,
      "outputs": []
    },
    {
      "cell_type": "code",
      "source": [
        "from sklearn.metrics import accuracy_score\n",
        "accuracy = accuracy_score(y_test, y_pred)\n",
        "print(f\"Accuracy: {accuracy:.4f}\")"
      ],
      "metadata": {
        "id": "NYSvUA4hTvOT"
      },
      "execution_count": null,
      "outputs": []
    },
    {
      "cell_type": "code",
      "source": [
        "from sklearn.model_selection import GridSearchCV\n",
        "param_grid = {\n",
        "    'n_estimators': [50, 100, 200],\n",
        "    'max_samples': [0.25, 0.5, 0.75],\n",
        "    'bootstrap': [False,True],\n",
        "    'random_state': [42],\n",
        "    'n_jobs': [-1]\n",
        "}\n",
        "\n",
        "grid_search = GridSearchCV(bag_clf, param_grid, cv=5, scoring='accuracy', n_jobs=-1)\n",
        "grid_search.fit(X_train, y_train)\n"
      ],
      "metadata": {
        "id": "tLkLcVwATv1t"
      },
      "execution_count": null,
      "outputs": []
    },
    {
      "cell_type": "code",
      "source": [
        "grid_search.predict(X_test)"
      ],
      "metadata": {
        "id": "JujOTS6DUFUJ"
      },
      "execution_count": null,
      "outputs": []
    },
    {
      "cell_type": "code",
      "source": [
        "grid_search.best_params_"
      ],
      "metadata": {
        "id": "JoqxPq0DUcs8"
      },
      "execution_count": null,
      "outputs": []
    },
    {
      "cell_type": "code",
      "source": [
        "grid_search.best_score_"
      ],
      "metadata": {
        "id": "jSRXF6ReUfcz"
      },
      "execution_count": null,
      "outputs": []
    },
    {
      "cell_type": "markdown",
      "source": [
        "NuSVC"
      ],
      "metadata": {
        "id": "7VLEAcmlccnI"
      }
    },
    {
      "cell_type": "code",
      "source": [
        "from sklearn.svm import NuSVC\n",
        "nsc = NuSVC()\n",
        "nsc.fit(X_train, y_train)\n",
        "y_pred2= nsc.predict(X_test)"
      ],
      "metadata": {
        "id": "raGieQ9VUhLv"
      },
      "execution_count": null,
      "outputs": []
    },
    {
      "cell_type": "code",
      "source": [
        "print(accuracy_score(y_test, y_pred2))"
      ],
      "metadata": {
        "id": "JpqhsBhMaPhI"
      },
      "execution_count": null,
      "outputs": []
    },
    {
      "cell_type": "markdown",
      "source": [
        "Linear Discriminant Analysis"
      ],
      "metadata": {
        "id": "mYxBXDp4cgRN"
      }
    },
    {
      "cell_type": "code",
      "source": [
        "from sklearn.discriminant_analysis import LinearDiscriminantAnalysis\n",
        "lda = LinearDiscriminantAnalysis()\n",
        "lda.fit(X_train, y_train)"
      ],
      "metadata": {
        "id": "Ws_1Z7sXaXQm"
      },
      "execution_count": null,
      "outputs": []
    },
    {
      "cell_type": "code",
      "source": [
        "y_pred3 = lda.predict(X_test)"
      ],
      "metadata": {
        "id": "sxlnNm7lakcO"
      },
      "execution_count": null,
      "outputs": []
    },
    {
      "cell_type": "code",
      "source": [
        "print(accuracy_score(y_test, y_pred3))"
      ],
      "metadata": {
        "id": "QJc0SccualjW"
      },
      "execution_count": null,
      "outputs": []
    },
    {
      "cell_type": "code",
      "source": [
        "from sklearn.metrics import confusion_matrix, classification_report"
      ],
      "metadata": {
        "id": "RPPGY4XDasnn"
      },
      "execution_count": null,
      "outputs": []
    },
    {
      "cell_type": "code",
      "source": [
        "print(confusion_matrix(y_test, y_pred3))"
      ],
      "metadata": {
        "id": "MYY-9FpPamwH"
      },
      "execution_count": null,
      "outputs": []
    },
    {
      "cell_type": "code",
      "source": [
        "print(classification_report(y_test, y_pred3))"
      ],
      "metadata": {
        "id": "qJ8Xm_QUaqWT"
      },
      "execution_count": null,
      "outputs": []
    },
    {
      "cell_type": "markdown",
      "source": [
        "Ridge CLassifier"
      ],
      "metadata": {
        "id": "P9oBhepEckHi"
      }
    },
    {
      "cell_type": "code",
      "source": [
        "# prompt: ridge classifier code\n",
        "\n",
        "from sklearn.linear_model import RidgeClassifier\n",
        "\n",
        "ridge_clf = RidgeClassifier()\n",
        "ridge_clf.fit(X_train, y_train)\n",
        "\n",
        "y_pred_ridge = ridge_clf.predict(X_test)\n",
        "accuracy_ridge = accuracy_score(y_test, y_pred_ridge)\n",
        "\n",
        "print(f\"Accuracy (Ridge Classifier): {accuracy_ridge:.4f}\")\n"
      ],
      "metadata": {
        "id": "PPJN_oOHaxlB"
      },
      "execution_count": null,
      "outputs": []
    },
    {
      "cell_type": "code",
      "source": [
        "df.head()"
      ],
      "metadata": {
        "id": "apywVtCCbs9q"
      },
      "execution_count": null,
      "outputs": []
    },
    {
      "cell_type": "markdown",
      "source": [
        "Predicative Model building"
      ],
      "metadata": {
        "id": "lojSEPQscmmW"
      }
    },
    {
      "cell_type": "code",
      "source": [
        "input_data = (3,2,312.949668,18,0,2,1)\n",
        "input_data_as_numpy_array = np.asarray(input_data)\n",
        "input_data_reshaped = input_data_as_numpy_array.reshape(1,-1)\n",
        "prediction = bag_clf.predict(input_data_reshaped)\n",
        "print(prediction)\n",
        "if prediction[0] == 0:\n",
        "  print('No Purchase')\n",
        "else:\n",
        "  print('Purchase')"
      ],
      "metadata": {
        "id": "FmzmSMwgbnR-"
      },
      "execution_count": null,
      "outputs": []
    },
    {
      "cell_type": "markdown",
      "source": [
        "Pickling the file"
      ],
      "metadata": {
        "id": "mhHqM_KWcoe_"
      }
    },
    {
      "cell_type": "code",
      "source": [
        "import pickle\n",
        "pickle.dump(bag_clf,open('model.pkl','wb'))"
      ],
      "metadata": {
        "id": "7fb3cKnlcA-b"
      },
      "execution_count": null,
      "outputs": []
    },
    {
      "cell_type": "code",
      "source": [],
      "metadata": {
        "id": "mucZQzdUcr4Z"
      },
      "execution_count": null,
      "outputs": []
    }
  ]
}